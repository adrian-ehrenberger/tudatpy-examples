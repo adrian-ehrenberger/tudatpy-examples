{
 "cells": [
  {
   "cell_type": "markdown",
   "metadata": {},
   "source": [
    "# Panelled radiation pressure sattelite propagation\n",
    "\n",
    "Copyright (c) 2010-2022, Delft University of Technology. All rights reserved. This file is part of the Tudat. Redistribution and use in source and binary forms, with or without modification, are permitted exclusively under the terms of the Modified BSD license. You should have received a copy of the license with this file. If not, please or visit: http://tudat.tudelft.nl/LICENSE.\n",
    "\n",
    "\n",
    "## Context\n",
    "\n",
    "## Import statements\n",
    "\"\"\"\n",
    "The required import statements are made here, at the very beginning.\n",
    "\n",
    "Some standard modules are first loaded. These are `numpy` and `matplotlib.pyplot`.\n",
    "\n",
    "Then, the different modules of `tudatpy` that will be used are imported.\n",
    "\"\"\"\n",
    "\n",
    "# Load standard modules\n",
    "import numpy as np\n",
    "\n",
    "import matplotlib\n",
    "from matplotlib import pyplot as plt\n",
    "\n",
    "# Load tudatpy modules\n",
    "from tudatpy.interface import spice\n",
    "from tudatpy import numerical_simulation\n",
    "from tudatpy.numerical_simulation import environment\n",
    "from tudatpy.numerical_simulation import environment_setup, propagation_setup\n",
    "from tudatpy.astro import element_conversion\n",
    "from tudatpy import constants\n",
    "from tudatpy.util import result2array\n",
    "from tudatpy.astro.time_conversion import DateTime\n",
    "\n",
    "## Configuration"
   ]
  },
  {
   "cell_type": "code",
   "execution_count": null,
   "metadata": {},
   "outputs": [],
   "source": []
  },
  {
   "cell_type": "markdown",
   "metadata": {},
   "source": []
  }
 ],
 "metadata": {
  "language_info": {
   "name": "python"
  }
 },
 "nbformat": 4,
 "nbformat_minor": 2
}
